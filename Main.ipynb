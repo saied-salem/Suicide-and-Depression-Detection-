{
 "cells": [
  {
   "cell_type": "markdown",
   "id": "9a5dce54",
   "metadata": {},
   "source": [
    "---\n",
    "# SBME Faculty of Engineering Cairo University\n",
    "## Suicide Sentiment Analysis Project\n",
    "\n",
    "---\n",
    "  \n",
    "\n"
   ]
  },
  {
   "cell_type": "code",
   "execution_count": null,
   "id": "9bd2cc7e",
   "metadata": {},
   "outputs": [],
   "source": []
  }
 ],
 "metadata": {
  "kernelspec": {
   "display_name": "Python 3 (ipykernel)",
   "language": "python",
   "name": "python3"
  },
  "language_info": {
   "codemirror_mode": {
    "name": "ipython",
    "version": 3
   },
   "file_extension": ".py",
   "mimetype": "text/x-python",
   "name": "python",
   "nbconvert_exporter": "python",
   "pygments_lexer": "ipython3",
   "version": "3.8.10"
  }
 },
 "nbformat": 4,
 "nbformat_minor": 5
}
